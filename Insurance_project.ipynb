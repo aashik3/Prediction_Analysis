{
 "cells": [
  {
   "cell_type": "markdown",
   "id": "6f177d6f-639f-45aa-9b88-a43c711172dd",
   "metadata": {},
   "source": [
    "## Objective – Explore the dataset and extract insights from the data. Using statistical evidence to\n",
    "\n",
    "* Prove (or disprove) that the medical claims made by the people who smoke is greater than those who don't?\n",
    "* Prove (or disprove) with statistical evidence that the BMI of females is different from that of males.\n",
    "* Is the proportion of smokers significantly different across different regions?\n",
    "* Is the mean BMI of women with no children, one child, and two children the same?"
   ]
  },
  {
   "cell_type": "markdown",
   "id": "b6fbfbcd-fd79-433a-89e4-97d5930466ed",
   "metadata": {
    "jp-MarkdownHeadingCollapsed": true
   },
   "source": [
    "# Data Set \r\n",
    "- Age :- This is an integer indicating the age of the primary beneficiary (excluding those above 64 years, since they are generally covered by the government).\r\n",
    "- Sex :- This is the policy holder's gender, either male or female.\r\n",
    "- BMI :- This is the body mass index (BMI), which provides a sense of how over or under-weight a person is relative to their height. BMI is equal to weight (in kilograms) divided by height (in meters) squared. An ideal BMI is within the range of 18.5 to 24.9.\r\n",
    "- Children :- This is an integer indicating the number of children / dependents covered by the insurance plan.\r\n",
    "- Smoker :- This is yes or no depending on whether the insured regularly smokes tobacco.\r\n",
    "- Region :- This is the beneficiary's place of residence in the U.S., divided into four geographic regions - northeast, southeast, southwest, or northwest.\r\n",
    "- Charges​ :- Individual medical costs billed to health insurance\r",
    "rance"
   ]
  },
  {
   "cell_type": "markdown",
   "id": "e7d9ea6d-a56a-420a-a1d4-790c1b599a2d",
   "metadata": {},
   "source": [
    "# by EDA Question to be answered\r\n",
    "- Are there more Male beneficary ?\r\n",
    "- Are there more smoker ?\r\n",
    "- Which region has maximum , medical cost billed to health insurance.?\r\n",
    "- What is age of beneficary.?\r\n",
    "- Do beneficary having more dependents had more medical cost billed.?"
   ]
  },
  {
   "cell_type": "code",
   "execution_count": null,
   "id": "a12f1228-8507-443c-bb5b-437503d2ad02",
   "metadata": {},
   "outputs": [],
   "source": []
  },
  {
   "cell_type": "code",
   "execution_count": null,
   "id": "164d18d2-3670-4295-928f-57a02d20b32f",
   "metadata": {},
   "outputs": [],
   "source": [
    "import pandas as pd \n",
    "import numpy as np\n",
    "import matplotlib.pyplot as plt\n",
    "import seaborn as sns\n",
    "import scipy.stats as stats\n",
    "import warnings\n",
    "warnings.filterwarnings('ignore')\n",
    "from scipy.stats import skew\n",
    "from statsmodels.stats.proportion import proportions_ztest\n",
    "from statsmodels.formula.api import ols      # For n-way ANOVA\n",
    "from statsmodels.stats.anova import anova_lm \n",
    "from   scipy.stats import chi2_contingency # for chi square test"
   ]
  },
  {
   "cell_type": "code",
   "execution_count": null,
   "id": "80b2ceb9-5210-4dfe-a7b0-736052ba41f6",
   "metadata": {},
   "outputs": [],
   "source": [
    "#Reading the file\n",
    "df=pd.read_csv(r\"C:\\Users\\aashi\\python_files\\insurance.csv\")"
   ]
  },
  {
   "cell_type": "code",
   "execution_count": null,
   "id": "489c4e0d-56fa-43f5-8c2c-4260b596edf8",
   "metadata": {},
   "outputs": [],
   "source": [
    "df.head()"
   ]
  },
  {
   "cell_type": "code",
   "execution_count": null,
   "id": "11e4355a-1ad2-40c8-8131-273df536c2b5",
   "metadata": {},
   "outputs": [],
   "source": [
    "# viewing the shape\n",
    "df.shape\n",
    "print(\"Missing values\\n\\n\",df.isnull().sum())\n",
    "print('------------------')\n",
    "print(\"UNIQUE VALUES\\n\",df.nunique())"
   ]
  },
  {
   "cell_type": "code",
   "execution_count": null,
   "id": "b0286eac-a474-428c-8419-ecdc2a078407",
   "metadata": {},
   "outputs": [],
   "source": [
    "df.info()"
   ]
  },
  {
   "cell_type": "markdown",
   "id": "d670146e-05d6-457f-ae0f-b5082e5d304d",
   "metadata": {},
   "source": [
    "**Types of variables**\n",
    "\n",
    "- Categorical varibles - sex,smoker,region,children\n",
    "-  Quantitative variables -age,bmi,charges. Here children is a discrete variable where as age, bmi, and charges are continous variables.\n",
    "\n",
    "- There are no missing values"
   ]
  },
  {
   "cell_type": "code",
   "execution_count": null,
   "id": "159b472c-305f-4af1-ba68-a4fa59cdca96",
   "metadata": {},
   "outputs": [],
   "source": [
    "insured=df.copy()"
   ]
  },
  {
   "cell_type": "code",
   "execution_count": null,
   "id": "c7f606f8-81e7-4c73-9d30-b2d0e2aa6344",
   "metadata": {},
   "outputs": [],
   "source": [
    "#changing object dtype to category  to save memory\n",
    "insured.sex=insured['sex'].astype(\"category\")\n",
    "insured.smoker=insured['smoker'].astype(\"category\")\n",
    "insured.region=insured['region'].astype(\"category\")"
   ]
  },
  {
   "cell_type": "code",
   "execution_count": null,
   "id": "c83c5adb-d191-4b4c-b62c-1f7efe0bb17d",
   "metadata": {},
   "outputs": [],
   "source": [
    "insured.describe()"
   ]
  },
  {
   "cell_type": "markdown",
   "id": "6dd263c7-12ae-473e-9950-cf8b63bacfd4",
   "metadata": {},
   "source": [
    "**Observations**\r\n",
    " - Average age of the primary beneficiary is 39.2 and maximum age is 64.\r\n",
    " - Average BMI is 30.66, that is out of normal BMI range, Maximum BMI is 53.13\r\n",
    " - Average medical costs billed to health insurance is 13270, median is 9382 and maximum is 63770\r\n",
    " - Median is less than mean in charges , indicating distrubution is postively skewed .\r\n",
    " - Customer on an average has 1 child.\r\n",
    " - For Age, BMI, children , mean is almost equal to median , suggesting data is normally distrubuted \r\n",
    " \r\n",
    "    "
   ]
  },
  {
   "cell_type": "code",
   "execution_count": null,
   "id": "fe11f9bc-e165-4ff4-9f45-6caa7f0c213b",
   "metadata": {},
   "outputs": [],
   "source": [
    "insured.describe(include='category')"
   ]
  },
  {
   "cell_type": "code",
   "execution_count": null,
   "id": "407c5e42-74a0-4441-867c-e181469f1f9b",
   "metadata": {},
   "outputs": [],
   "source": [
    "#Are there more Male beneficary ?\n",
    "# Are there more smoker ?\n",
    "# which region has maximm , claims .?\n",
    "\n",
    "list_col = insured.select_dtypes(['category']).columns\n",
    "for i in range(len(list_col)):\n",
    "    print(insured[list_col[i]].value_counts())\n",
    "    print()\n",
    "    "
   ]
  },
  {
   "cell_type": "markdown",
   "id": "7484f7f3-793f-43ad-9485-d31ec8b7f861",
   "metadata": {},
   "source": [
    "**Observations**\n",
    " - 676 male and 662 female, indicated sample has  slightly more males than females. \n",
    " - 1064 nonsomker and 274 smoker, indicating sample has more nonsmokers.\n",
    " - Number of  claims from customer who reside in southwest region is more compared to other regions\n"
   ]
  },
  {
   "cell_type": "code",
   "execution_count": null,
   "id": "ada356f4-342a-42da-804d-50080f59071b",
   "metadata": {},
   "outputs": [],
   "source": []
  },
  {
   "cell_type": "markdown",
   "id": "c869990a-b818-4883-9700-a523ce2058e5",
   "metadata": {},
   "source": [
    "\n",
    "\n",
    "\n",
    "# Exploratory Data Analysis\n",
    "\n",
    "\n",
    "\n"
   ]
  },
  {
   "cell_type": "markdown",
   "id": "16a7e8c9-4c74-4fe6-b83d-0733b9afd071",
   "metadata": {},
   "source": [
    "## Univariate Analysis"
   ]
  },
  {
   "cell_type": "code",
   "execution_count": null,
   "id": "1b97c242-dc5e-4aa9-94c7-94e3b4b051c2",
   "metadata": {},
   "outputs": [],
   "source": [
    "def dist_box(data):\n",
    " # function plots a combined graph for univariate analysis of continous variable \n",
    " #to check spread, central tendency , dispersion and outliers \n",
    "    Name = data.name.upper()\n",
    "    fig,axes=plt.subplots(2,1,gridspec_kw = {\"height_ratios\": (.25, .75)},figsize=(10,5))\n",
    "   \n",
    "    mean=data.mean()\n",
    "    median=data.median()\n",
    "    mode=data.mode().tolist()[0]\n",
    "    fig.suptitle(\"SPREAD OF DATA FOR \"+ Name , fontweight='bold')\n",
    "    sns.boxplot(x=data,showmeans=True,ax=axes[0])\n",
    "    sns.distplot(data,kde=False,ax=axes[1],color='blue')\n",
    "    axes[1].axvline(mean,color='g')\n",
    "    axes[1].axvline(median,color='r')\n",
    "    axes[1].axvline(mode,color='y')\n",
    "    plt.legend({'Mean':mean,'Median':median,'Mode':mode})\n",
    "\n"
   ]
  },
  {
   "cell_type": "code",
   "execution_count": null,
   "id": "8c49f939-66c8-423f-b0a1-eec525a6ad49",
   "metadata": {},
   "outputs": [],
   "source": [
    "#select all quantitative columns for checking the spread\n",
    "list_col=  insured.select_dtypes([np.number]).columns\n",
    "sns.set(style=\"darkgrid\")\n",
    "for i in range(len(list_col)):\n",
    "    dist_box(insured[list_col[i]])\n",
    "    "
   ]
  },
  {
   "cell_type": "markdown",
   "id": "a6babf50-2fcb-44b0-8cba-aa4860312548",
   "metadata": {},
   "source": [
    "**Observations**\r\n",
    "- Age of primary beneficary lies approximately between 20 - 65 . Average Age is aprrox. 40. Majority of customer are in range 18- 20's.\r\n",
    "- Bmi is normally distrubuted and Average BMI of beneficiary is 30.This BMI is outside the normal range of BMI. There are lot of outliers at upper end\r\n",
    "- Most of the beneficary have no childrens.\r\n",
    "- Charges distrubution is unimodal and is right skewed .Average cost incured to the insurance is appro. 130000 and highest charge is 63770.There are lot of outliers at upper end."
   ]
  },
  {
   "cell_type": "code",
   "execution_count": null,
   "id": "8046c3f9-2341-4bd3-b53c-ee4253a655f8",
   "metadata": {},
   "outputs": [],
   "source": [
    "def bar_perc(plot, feature):\n",
    "    total = len(feature) # length of the column\n",
    "    for p in plot.patches:\n",
    "        percentage = '{:.1f}%'.format(100 * p.get_height()/total) # percentage of each class of the category\n",
    "        x = p.get_x() + p.get_width() / 2 - 0.05 # width of the plot\n",
    "        y = p.get_y() + p.get_height()           # hieght of the plot\n",
    "        plot.annotate(percentage, (x, y), size = 12)"
   ]
  },
  {
   "cell_type": "code",
   "execution_count": null,
   "id": "b9cc768c-3daf-4819-873b-00d06dc7e4e6",
   "metadata": {},
   "outputs": [],
   "source": [
    "def bar_perc1(plot, feature):\n",
    "    total = len(feature)\n",
    "    for p in ax.patches:\n",
    "        height = p.get_height()\n",
    "        \n",
    "        percentage = (height / total) * 100\n",
    "        ax.text(p.get_x() + p.get_width() / 2, height, f'{percentage:.1f}%', ha='center', va='bottom')\n"
   ]
  },
  {
   "cell_type": "code",
   "execution_count": null,
   "id": "46ea697e-abb4-43cf-ad99-d9442535617d",
   "metadata": {},
   "outputs": [],
   "source": [
    "#get all category datatype \n",
    "list_col=  insured.select_dtypes(['category']).columns\n",
    "fig1, axes1 =plt.subplots(1,3,figsize=(14, 5))\n",
    "for i in range(len(list_col)):\n",
    "    order = insured[list_col[i]].value_counts(ascending=False).index # to display bar in ascending order\n",
    "    axis=sns.countplot(x=list_col[i], data=insured , order=order,ax=axes1[i],palette='inferno').set(title=list_col[i].upper())\n",
    "    bar_perc(axes1[i],insured[list_col[i]])"
   ]
  },
  {
   "cell_type": "markdown",
   "id": "49a7cdee-d6e7-4e59-b597-688915806c4c",
   "metadata": {},
   "source": [
    "**Observations**\r\n",
    " - 50.5% of beneficiary are male and 49.5 % are female. Approximately same number of male and female beneficiary.\r\n",
    " - 20.5% of beneficary are smokers.\r\n",
    " - Beneficary are evenly distributed across regions with South East being the most populous one (~27%) with the rest of regions each containing around ~24kid."
   ]
  },
  {
   "cell_type": "markdown",
   "id": "c62af751-e901-4040-a7ba-c77fbab34521",
   "metadata": {},
   "source": [
    "## Bivariate & Multivariate Analysis"
   ]
  },
  {
   "cell_type": "code",
   "execution_count": null,
   "id": "85220231-8d12-4aca-8c73-5c94e61b8e65",
   "metadata": {},
   "outputs": [],
   "source": [
    "plt.figure(figsize=(12,5))\n",
    "sns.heatmap(insured.corr(numeric_only=True),annot=True ,cmap=\"YlGn\" )\n",
    "plt.show()\n"
   ]
  },
  {
   "cell_type": "markdown",
   "id": "3c99227a-6691-4206-81e6-91511f097c81",
   "metadata": {},
   "source": [
    "**Observation**\n",
    " - There is  very little significant correlation between charges &age and charges and bmi.\n"
   ]
  },
  {
   "cell_type": "code",
   "execution_count": null,
   "id": "99a40fd5-a44b-414d-b20d-da1e49d4330e",
   "metadata": {},
   "outputs": [],
   "source": [
    "sns.pairplot(data=insured,hue='sex',kind='scatter',corner=True,palette='viridis')\n",
    "plt.show()"
   ]
  },
  {
   "cell_type": "code",
   "execution_count": null,
   "id": "928573aa-d9b4-4d5b-bd7a-cf56bd45075b",
   "metadata": {},
   "outputs": [],
   "source": [
    "category_columns = insured.select_dtypes(['category']).columns\n",
    "category_columns"
   ]
  },
  {
   "cell_type": "code",
   "execution_count": null,
   "id": "05f31aec-ed71-4f27-92bc-63d7169f9018",
   "metadata": {},
   "outputs": [],
   "source": [
    "#Sex vs all numerical variable\n",
    "\n",
    "fig ,axes1 = plt.subplots(2,2,figsize=(15,10))\n",
    "list_col = insured.select_dtypes([np.number]).columns\n",
    "\n",
    "for i in range(len(list_col)):\n",
    "    row= i//2\n",
    "    column = i%2\n",
    "    ax= axes1[row,column]\n",
    "    sns.boxplot(x=insured['sex'],y=insured[list_col[i]],ax=ax,palette='viridis').set(title='SEX  VS '+list_col[i].upper())\n",
    "    ax.set(xlabel='')"
   ]
  },
  {
   "cell_type": "markdown",
   "id": "fa680ed7-df20-44e9-88f5-2f180fe5827a",
   "metadata": {},
   "source": [
    "**Observation**\n",
    " - Avergae Age of female beneficiary is slightly higher than male beneficiary\n",
    " - No of children both male and female beneficary have is same\n",
    " - BMI of Male policy holder has many outliers and Average BMI of male is slightly higher than female\n",
    " - Male policy holder has incure more charges to insurance compared to female policy holder. There are lot of outliers in female policy holder"
   ]
  },
  {
   "cell_type": "code",
   "execution_count": null,
   "id": "74bac4f7-e453-4f54-a1d2-53337d133509",
   "metadata": {},
   "outputs": [],
   "source": [
    "#Smoker vs all numerical variable\n",
    "\n",
    "fig ,axes1 = plt.subplots(2,2,figsize=(15,10))\n",
    "list_col = insured.select_dtypes([np.number]).columns\n",
    "\n",
    "for i in range(len(list_col)):\n",
    "    row= i//2\n",
    "    column = i%2\n",
    "    ax= axes1[row,column]\n",
    "    sns.boxplot(x=insured['smoker'],y=insured[list_col[i]],ax=ax,palette='PiYG').set(title='SMOKER  VS '+list_col[i].upper())\n",
    "    ax.set(xlabel='')"
   ]
  },
  {
   "cell_type": "markdown",
   "id": "fef571de-b30d-48aa-8548-af89aa6a17fa",
   "metadata": {},
   "source": [
    "**Observation**\r\n",
    "- Smoker have incured more cost to insurance than nonsmoker. There are outliers in nonsmoker , need to analyze.\r\n",
    "- BMI of non smoker has lot of outliers."
   ]
  },
  {
   "cell_type": "code",
   "execution_count": null,
   "id": "e1e1bf2d-6a9b-479f-b938-9e9c63a64934",
   "metadata": {},
   "outputs": [],
   "source": [
    "#region vs all numerical variable\n",
    "\n",
    "fig ,axes1 = plt.subplots(2,2,figsize=(15,10))\n",
    "list_col = insured.select_dtypes([np.number]).columns\n",
    "\n",
    "for i in range(len(list_col)):\n",
    "    row= i//2\n",
    "    column = i%2\n",
    "    ax= axes1[row,column]\n",
    "    sns.boxplot(x=insured['region'],y=insured[list_col[i]],ax=ax,palette='viridis').set(title='REGION  VS '+list_col[i].upper())\n",
    "    ax.set(xlabel='')"
   ]
  },
  {
   "cell_type": "markdown",
   "id": "ccd29b18-b0bd-4ce5-becc-951b13294c77",
   "metadata": {},
   "source": [
    "**Observations**\r\n",
    " - Age  and numnber of children across regions is almost same.\r\n",
    " - Average Bmi of policy holder from southeast higher compared to other regions\r\n",
    " - Charges incured because of policy holder from southeast is higher compared to othe regions\r\n",
    " - There are lot of outliers on upper end in charges\r\n"
   ]
  },
  {
   "cell_type": "code",
   "execution_count": null,
   "id": "45959719-278e-48b3-9b4b-6935074b57f0",
   "metadata": {},
   "outputs": [],
   "source": [
    "#smoker vs Sex\n",
    "ax=sns.countplot(x='smoker',hue='sex',data=insured)\n",
    "bar_perc(ax,insured['sex'])\n",
    "ax.set(title=\"Smoker vs Sex\")\n",
    "plt.show()"
   ]
  },
  {
   "cell_type": "code",
   "execution_count": null,
   "id": "94d20e79-5f62-4e2d-b55a-9aa978d7e23d",
   "metadata": {},
   "outputs": [],
   "source": [
    "#smoker vs charges\n",
    "sns.barplot(x=insured.smoker,y=insured.charges,palette='rainbow').set(title=\"Smoker vs Charges\")"
   ]
  },
  {
   "cell_type": "code",
   "execution_count": null,
   "id": "816c8f70-992e-4a27-b471-d339675fcdfd",
   "metadata": {
    "scrolled": true
   },
   "outputs": [],
   "source": [
    "#region vs smoker\n",
    "plt.figure(figsize=(14,5))\n",
    "ax=sns.countplot(x='region',hue='smoker',data=insured,palette='rainbow')\n",
    "bar_perc(ax,insured['smoker'])\n",
    "ax.set(title=\"Smoker vs Region\")\n",
    "plt.show()"
   ]
  },
  {
   "cell_type": "markdown",
   "id": "6349d2fc-f0c5-4f02-bd27-ea1d64968fb3",
   "metadata": {},
   "source": [
    "**Observation**\n",
    "- There are more male smokers than female.\n",
    "- Southeast region has more smokers\n",
    "- Smoker have more costlier claims than nonsmoker."
   ]
  },
  {
   "cell_type": "code",
   "execution_count": null,
   "id": "36434751-819a-43a6-bc9b-eeb65fd57865",
   "metadata": {},
   "outputs": [],
   "source": [
    "# sex vs region\n",
    "plt.figure(figsize=(13,5))\n",
    "ax2=sns.countplot(x='region',hue='sex',data=insured,palette='inferno')\n",
    "bar_perc(ax2,insured['sex'])\n",
    "plt.show()\n"
   ]
  },
  {
   "cell_type": "markdown",
   "id": "d6daff41-b5dd-481e-b26f-b46369a462ae",
   "metadata": {},
   "source": [
    "**Observations**\n",
    " - There are more smokers in southeast region compared to other regions."
   ]
  },
  {
   "cell_type": "code",
   "execution_count": null,
   "id": "db023477-6843-4819-ab51-d131a5a06e4e",
   "metadata": {},
   "outputs": [],
   "source": [
    "#CHILDREN VS CHARGES\n",
    "plt.figure(figsize=(12,5))\n",
    "sns.barplot(x='children',y='charges',data=insured,palette='rainbow').set(title='CHILDREN VS CHARGES')\n",
    "plt.show()"
   ]
  },
  {
   "cell_type": "code",
   "execution_count": null,
   "id": "e3bb0b08-79cc-44eb-ba57-ee8cd2b8149c",
   "metadata": {},
   "outputs": [],
   "source": [
    "#Sex Vs Charges\n",
    "\n",
    "sns.barplot(x=insured.sex,y=insured.charges,palette='Set2').set(title='Sex Vs Charges')"
   ]
  },
  {
   "cell_type": "code",
   "execution_count": null,
   "id": "cb7204f1-ac1c-4999-8632-a80ee4530661",
   "metadata": {},
   "outputs": [],
   "source": [
    "#Region Vs Charges\n",
    "sns.barplot(x='region',y='charges',data=insured,palette='Set2').set(title='Region Vs Charges')"
   ]
  },
  {
   "cell_type": "code",
   "execution_count": null,
   "id": "996f3500-5cfb-453b-b1d8-b84b0a9bd443",
   "metadata": {},
   "outputs": [],
   "source": [
    "#COST INCURED BY AGE FOR MALE AND FEMALE\n",
    "\n",
    "plt.figure(figsize=(14,5))\n",
    "sns.lineplot(x='age',y='charges',hue='sex',data= insured,palette='inferno',ci=0).set(title=' COST INCURED BY AGE FOR MALE AND FEMALE')\n",
    "plt.show()"
   ]
  },
  {
   "cell_type": "code",
   "execution_count": null,
   "id": "d7513efa-7df4-4e49-aab4-5ea813c34c8e",
   "metadata": {},
   "outputs": [],
   "source": [
    "# charges incured by smoker  for male and female \n",
    "sns.barplot(x='smoker',y='charges',hue='sex',data=insured,palette='rainbow')"
   ]
  },
  {
   "cell_type": "markdown",
   "id": "862f8f20-9951-4062-8e22-003f10c05fd8",
   "metadata": {},
   "source": [
    "**Observations**\n",
    " - Charges incurred for males are more than charges incured for females\n",
    " - With increasing age of policy holder charges incured are going high for both male and female.\n",
    " - There some spikes for female at an approximate ages of 23,28,43.\n",
    " - Most claims are from southeast regions.\n",
    " - Males who smoke have most claims and have higher bills \n",
    " - Number of claims made by female who dont smoke is more compared to female who smoke.\n",
    " \n",
    " \n"
   ]
  },
  {
   "cell_type": "code",
   "execution_count": null,
   "id": "e40a98cf-cbcd-4953-8d57-73f5e272504b",
   "metadata": {},
   "outputs": [],
   "source": [
    "category= pd.cut(insured.bmi,bins=[15,25,35,45,55],labels=['15-25','25-35','35-45','45-55'])\n",
    "insured.insert(5,'BMI_group',category)"
   ]
  },
  {
   "cell_type": "code",
   "execution_count": null,
   "id": "1918b3f2-8ef5-4bbf-b5a3-f993a48bb64e",
   "metadata": {},
   "outputs": [],
   "source": [
    "insured.head()"
   ]
  },
  {
   "cell_type": "code",
   "execution_count": null,
   "id": "379f9b7d-8192-4dbd-9743-212fa820b593",
   "metadata": {},
   "outputs": [],
   "source": [
    "charges_by_chilren=insured.groupby(insured.children).charges.mean()\n",
    "charges_by_chilren=charges_by_chilren.reset_index()\n",
    "plt.figure(figsize=(14,5))\n",
    "sns.barplot(x='children',y='charges',data=charges_by_chilren,palette='coolwarm')\n",
    "charges_by_chilren"
   ]
  },
  {
   "cell_type": "markdown",
   "id": "22d89ebb-e5f9-4266-9524-7dc3fc1e3086",
   "metadata": {},
   "source": [
    "**Observations**\n",
    " - There is no relation between no.of.childrens and charges incured"
   ]
  },
  {
   "cell_type": "code",
   "execution_count": null,
   "id": "7b828839-584d-4bab-9ace-a8940db8cf76",
   "metadata": {},
   "outputs": [],
   "source": [
    "\n",
    "insured.groupby(insured.BMI_group).charges.mean()"
   ]
  },
  {
   "cell_type": "code",
   "execution_count": null,
   "id": "d7211d1d-926a-4338-8f79-bdc713caf13c",
   "metadata": {},
   "outputs": [],
   "source": [
    "# adding a new column\n",
    "category1=pd.cut(insured.age,bins=[18,28,38,48,58,68],labels=['18-28','28-38','38-48','48-58','58-68'])\n",
    "insured.insert(6,'AgeBin',category1)"
   ]
  },
  {
   "cell_type": "code",
   "execution_count": null,
   "id": "e064327a-e2d9-46b1-8fdb-3ef475787811",
   "metadata": {},
   "outputs": [],
   "source": [
    "insured.groupby(insured.AgeBin).charges.mean()"
   ]
  },
  {
   "cell_type": "code",
   "execution_count": null,
   "id": "5137d9af-ef6a-424b-85a6-9bc44ec8a133",
   "metadata": {},
   "outputs": [],
   "source": [
    "#Age Vs Charges\n",
    "sns.barplot(x=insured.AgeBin,y=insured.charges,palette='viridis').set(title='Age Vs Charges')\n"
   ]
  },
  {
   "cell_type": "code",
   "execution_count": null,
   "id": "dd99b95e-d35d-4e01-9c69-837c08bf3956",
   "metadata": {},
   "outputs": [],
   "source": [
    "sns.barplot(x=insured.BMI_group,y=insured.charges,palette='viridis')\n"
   ]
  },
  {
   "cell_type": "code",
   "execution_count": null,
   "id": "dd8079fc-19af-4bf6-a78a-16ecd43b6604",
   "metadata": {},
   "outputs": [],
   "source": [
    "\n",
    "\n",
    "plt.figure(figsize=(15,7))\n",
    "sns.barplot(x=insured[\"BMI_group\"],y=insured[\"age\"],hue=insured['sex'],ci=0,palette='GnBu').set(title= 'Age and Bmi of Males and Females')\n",
    "plt.legend(bbox_to_anchor=(1.00, 1))\n",
    "plt.show()"
   ]
  },
  {
   "cell_type": "code",
   "execution_count": null,
   "id": "ed3276e0-707d-4759-bbb6-c3011b945193",
   "metadata": {},
   "outputs": [],
   "source": [
    "sns.barplot(x='BMI_group',y='charges',hue='sex',data=insured,palette='GnBu').set(title=\"Fig 2:BMI group and Charges \" )"
   ]
  },
  {
   "cell_type": "code",
   "execution_count": null,
   "id": "07e090b5-66cb-45e7-b981-e2b6b8b0011f",
   "metadata": {},
   "outputs": [],
   "source": [
    "sns.scatterplot(x='bmi',y='charges',hue='smoker',data=insured,palette='GnBu').set(title=\"Fig 2:BMI difference for smokers and non smokers\" )"
   ]
  },
  {
   "cell_type": "markdown",
   "id": "c497a90e-8de4-4431-9fba-0807e4bb8d64",
   "metadata": {},
   "source": [
    "**Observations**\n",
    "- FeMales with most BMI has incured most charges to the insurance company\n",
    "- BMI for male and females are  same\n",
    "- Beneficary with higher BMI have incurred more cost to insurance."
   ]
  },
  {
   "cell_type": "raw",
   "id": "44f457e1-8ada-449c-b18d-805d394baf5e",
   "metadata": {},
   "source": [
    "# Conclusion based on EDA\n",
    "- As expected , as the age of the beneficiary  increases ,the cost to insurance increases.\n",
    "- Males who smoke have most claims and have higher bills.\n",
    "- Female who are nonsmoker also have more claims to nonsmoker males this may be because of child birth , need to explore claims type to understand better.\n",
    "- Beneficiary with 2 or 3 dependent  have billed higher compared to others people who have 5.This is unusual and may be because of  uneven number of observations in each group. For example, no dependents group has 574 observations whereas five dependents group only has 18.\n",
    "- Customer with bmi  >30 are  on higher side of obesity, have more health issues and have higher claims.\n",
    "- Females with BMI more than 45 have billed higher to insurance.\n",
    "- Age, BMI and Smoking are important attributes which can cost insurance company more.\n"
   ]
  },
  {
   "cell_type": "markdown",
   "id": "9ad402e9-c62d-438f-a729-d9621359c31b",
   "metadata": {},
   "source": [
    "# Statistical Analysis"
   ]
  },
  {
   "cell_type": "markdown",
   "id": "f84fbca4-2ad4-4429-bee8-cea85d899e62",
   "metadata": {},
   "source": [
    "## 1.Prove (or disprove) that the medical claims made by the people who smoke is greater than those who don't?"
   ]
  },
  {
   "cell_type": "markdown",
   "id": "88f81469-b2f7-4b8a-94e9-f603003871ee",
   "metadata": {},
   "source": [
    "<div class =\"alert alert-block alert-info\">\n",
    "    <font size=3><b>    Step 1: Define null and alternative hypothesis</b></font><br>\n",
    "$\\ H_0  :  \\mu_1 <= \\mu_2  $ The average charges of smokers is less than or equal to nonsmokers \n",
    " <br>\n",
    " \n",
    "\n",
    "$\\ H_a  :\\mu_1 > \\mu_2 $ The average charges of smokers is greater than nonsmokers  <br>\n",
    "</div>"
   ]
  },
  {
   "cell_type": "markdown",
   "id": "d9ea0f98-b58c-4432-9a57-bf8e5d34e973",
   "metadata": {},
   "source": [
    "<div class =\"alert alert-block alert-info\">\n",
    "    <font size=3><b>Step 2: Decide the significance level. If P values is less than alpha reject the null hypothesis.</b></font>\n",
    "\n",
    "α = 0.05"
   ]
  },
  {
   "cell_type": "markdown",
   "id": "feaaf91d-b3fc-4aaa-a801-2ce27d22aa11",
   "metadata": {},
   "source": [
    "<div class =\"alert alert-block alert-info\">\n",
    "    <font size=3><b>Step 3: Identify the test</b></font>\n",
    "\n",
    "Standard deviation of the population is not known  ,will perform a T stat test .  The > sign in alternate hypothesis indicate  test is right tailed, that is all z values that would cause us to reject null hypothesis are in just one tail to the right of  sampling  distribution curve.\n",
    "\n",
    "    \n"
   ]
  },
  {
   "cell_type": "markdown",
   "id": "4ca02d93-8118-40fd-bf78-e319b73a5558",
   "metadata": {},
   "source": [
    "<div class =\"alert alert-block alert-info\">\n",
    "    <font size=3><b>Step 4: Calculate the test-statistics and p-value</b></font>"
   ]
  },
  {
   "cell_type": "code",
   "execution_count": null,
   "id": "25d69470-00a3-4ecc-9ad9-c68657b13e59",
   "metadata": {},
   "outputs": [],
   "source": [
    "smoker = insured.loc[insured.smoker=='yes']\n",
    "non_smoker = insured.loc[insured.smoker=='no']\n"
   ]
  },
  {
   "cell_type": "code",
   "execution_count": null,
   "id": "277aaef5-14b9-42ff-bfb8-8fc1398ccba3",
   "metadata": {},
   "outputs": [],
   "source": [
    "print(smoker.count())\n",
    "non_smoker.count()"
   ]
  },
  {
   "cell_type": "code",
   "execution_count": null,
   "id": "ce1f05af-d1ac-4d68-bcc7-30c30bf7faae",
   "metadata": {},
   "outputs": [],
   "source": [
    "# Adjusting the size of the rows to be equal\n",
    "non_smoker=non_smoker[-274:]"
   ]
  },
  {
   "cell_type": "code",
   "execution_count": null,
   "id": "0a32be22-d3e7-4747-84da-c5c9e2d0b5e9",
   "metadata": {},
   "outputs": [],
   "source": [
    "non_smoker.count()"
   ]
  },
  {
   "cell_type": "code",
   "execution_count": null,
   "id": "12701ec5-2986-4da1-b852-5b183fcd612a",
   "metadata": {},
   "outputs": [],
   "source": [
    "print(f\"Average charges incured for smokers is {smoker.charges.mean()} \\nAverage charges incured for non smokers is{non_smoker.charges.mean()}\")"
   ]
  },
  {
   "cell_type": "code",
   "execution_count": null,
   "id": "2709e53b-b7d2-4c03-822d-ce83fb90c875",
   "metadata": {},
   "outputs": [],
   "source": [
    "#smoker vs charges\n",
    "sns.boxplot(y=insured.charges,x=insured.smoker,data=insured,palette='Set2').set(title=\"Fig:1 Smoker vs Charges\")\n",
    "plt.show()"
   ]
  },
  {
   "cell_type": "code",
   "execution_count": null,
   "id": "53ed6e73-ae63-4adf-8191-3c757d6c235d",
   "metadata": {},
   "outputs": [],
   "source": [
    "charges_smoker = smoker.charges\n",
    "charges_non_smoker = non_smoker.charges"
   ]
  },
  {
   "cell_type": "code",
   "execution_count": null,
   "id": "7304996d-88d4-4c41-b907-8d765a005042",
   "metadata": {},
   "outputs": [],
   "source": [
    "alpha=0.05\n",
    "\n",
    "#one tailed t-test\n",
    "t_statistic , p_value = stats.ttest_ind(charges_smoker,charges_non_smoker,alternative='greater') # alternative parameter specify it is one tailed test \n"
   ]
  },
  {
   "cell_type": "code",
   "execution_count": null,
   "id": "3d53e645-8f83-4547-859e-88b5091411ea",
   "metadata": {},
   "outputs": [],
   "source": [
    "if p_value < alpha :\n",
    "    print(f\"reject Null hypothesis hence p_value {p_value} is lesser than {alpha}\")\n",
    "    print( 'Smokers have significantly higher medical claims')\n",
    "else:\n",
    "    print(f\" Null hypothesis is true  hence p_value {p_value} is greater than {alpha}\")"
   ]
  },
  {
   "cell_type": "markdown",
   "id": "2a54d1ab-aede-40b8-9bde-94a8628a6ff7",
   "metadata": {},
   "source": [
    "<div class =\"alert alert-block alert-info\">\n",
    "    <font size=3><b>Step 5: Decide whethere to  reject or failed to reject null hypothesis</b></font><br>    \n",
    "    We reject the null hypothesis and can conclude that people who smoke have on an average larger medical claim compared to people who don't smoke. Similar result can also been seen in Fig no.1 Smokers Vs Charges"
   ]
  },
  {
   "cell_type": "markdown",
   "id": "d98b8508-9a3d-4012-b304-f77ae9ab62d7",
   "metadata": {},
   "source": [
    "# 2.Prove (or disprove) with statistical evidence that the BMI of females is different from that of males."
   ]
  },
  {
   "cell_type": "markdown",
   "id": "534852ee-8081-493f-bb04-4c29c3fb69a5",
   "metadata": {},
   "source": [
    "<div class =\"alert alert-block alert-info\">\n",
    "    Let $\\mu_1 \\mu_2 $ and be the respective population means for BMI of males and BMI of females<br>\n",
    "    <font size=3><b>    Step 1: Define null and alternative hypothesis</b></font><br>\n",
    "$\\ H_0  : \\mu_1 - \\mu_2 = 0$ There is no difference between the BMI of Male  and BMI of female.<br>\n",
    "$\\ H_a  : \\mu_1 - \\mu_2 !=0 $ There is difference between the BMI of Male and BMI of female. <br>\n",
    "\n",
    "\n",
    "</div>"
   ]
  },
  {
   "cell_type": "markdown",
   "id": "2b186876-e707-4aae-8439-f1b3ed8c7f75",
   "metadata": {},
   "source": [
    "\n",
    "<div class =\"alert alert-block alert-info\">\n",
    "    <font size=3><b>Step 2: Decide the significance level</b></font>\n",
    "\n",
    "α = 0.05"
   ]
  },
  {
   "cell_type": "markdown",
   "id": "d626e9ff-b823-4f81-8ece-381e4e6dcd3a",
   "metadata": {},
   "source": [
    "<div class =\"alert alert-block alert-info\">\n",
    "    <font size=3><b>Step 3:Identify the test</b></font><br>Standard deviation of the population is not known ,will perform a T stat test.Not equal to sign in alternate hypothesis indicate its a two tailed test."
   ]
  },
  {
   "cell_type": "markdown",
   "id": "83d3c2e3-962b-4f95-8d87-5dd06a9b6fef",
   "metadata": {},
   "source": [
    "<div class =\"alert alert-block alert-info\">\r\n",
    "    <font size=3><b>Step 4: Calculate the test-statistics and p-value</b></font>"
   ]
  },
  {
   "cell_type": "code",
   "execution_count": null,
   "id": "64b00dc8-95fc-4083-a15f-4bc4f115880a",
   "metadata": {},
   "outputs": [],
   "source": []
  },
  {
   "cell_type": "code",
   "execution_count": null,
   "id": "354e856c-31fe-4933-9b23-0ed1db7c2810",
   "metadata": {},
   "outputs": [],
   "source": []
  },
  {
   "cell_type": "code",
   "execution_count": null,
   "id": "b4711c5a-a37b-4b77-9b4d-936b85bc209d",
   "metadata": {},
   "outputs": [],
   "source": [
    "#get all observation for male.\n",
    "df_male=insured.loc[insured.sex==\"male\"]\n",
    "#get all observation for females\n",
    "df_female=insured.loc[insured.sex==\"female\"]\n"
   ]
  },
  {
   "cell_type": "code",
   "execution_count": null,
   "id": "6eeee1bf-b84c-45b0-a733-58b7cb3912b5",
   "metadata": {},
   "outputs": [],
   "source": [
    "#get bmi of male and female\n",
    "bmi_female=df_female.bmi\n",
    "bmi_male=df_male.bmi"
   ]
  },
  {
   "cell_type": "code",
   "execution_count": null,
   "id": "772c80a5-50a6-4d6a-a6b5-ea84fe21a62a",
   "metadata": {},
   "outputs": [],
   "source": [
    "sns.distplot(bmi_male,color='green',hist=False)\n",
    "sns.distplot(bmi_female,color='red',hist=False)\n",
    "plt.show()"
   ]
  },
  {
   "cell_type": "code",
   "execution_count": null,
   "id": "ae8652e4-f411-4070-bad7-0c32fbb92b64",
   "metadata": {},
   "outputs": [],
   "source": [
    "t_statistic2,p_value2= stats.ttest_ind(bmi_female,bmi_male)\n",
    "print(f't-statistic{t_statistic2}\\np_value2{p_value2}')"
   ]
  },
  {
   "cell_type": "code",
   "execution_count": null,
   "id": "a31986c9-1067-4913-a02c-7b662b5d673d",
   "metadata": {},
   "outputs": [],
   "source": [
    "if p_value2 < alpha :\n",
    "    print(f\"reject Null hypothesis hence p_value {p_value2} is lesser than {alpha}\")\n",
    "    print( 'BMI of male and female differ significantly')\n",
    "else:\n",
    "    print(f\"Failed to reject Null hypothesis because p_value {p_value2} is greater than {alpha}\")\n",
    "    print( 'There is no significant difference of BMI  between male and female ')"
   ]
  },
  {
   "cell_type": "markdown",
   "id": "5bd3936d-91fb-4013-a0f9-272b83fa857f",
   "metadata": {},
   "source": [
    "<div class =\"alert alert-block alert-info\">\n",
    "    <font size=3><b>Step 5: Decide to reject or accept null hypothesis</b></font><br>\n",
    "     We fail to reject the null hypothesis and can conclude that There is no difference between BMI of Female and BMI of Male. "
   ]
  },
  {
   "cell_type": "markdown",
   "id": "fb4d3209-b8b9-4a00-b2f2-487ea6a04e59",
   "metadata": {},
   "source": [
    "# 3.Is the proportion of smokers significantly different across different regions?"
   ]
  },
  {
   "cell_type": "markdown",
   "id": "d45d28a5-8d72-4258-add7-76e3fa98001d",
   "metadata": {},
   "source": [
    "<div class =\"alert alert-block alert-info\">\n",
    "    <font size=3><b>    Step 1: Define null and alternative hypotheses</b></font>\n",
    "\n",
    "* H<sub>0</sub> Smokers proportions is not significantly different across different regions\n",
    "* H<sub>a</sub> Smokers proportions is  different across different regions  <br>\n",
    "</div>"
   ]
  },
  {
   "cell_type": "markdown",
   "id": "e01434cd-8e0f-4538-96a3-1adc1125119c",
   "metadata": {},
   "source": [
    "<div class =\"alert alert-block alert-info\">\n",
    "    <font size=3><b>Step 2: Decide the significance level</b></font>\n",
    "\n",
    "α = 0.05"
   ]
  },
  {
   "cell_type": "markdown",
   "id": "a08a7cff-9358-4fb4-9f0d-260b0fc71065",
   "metadata": {},
   "source": [
    "<div class =\"alert alert-block alert-info\">\n",
    "    <font size=3><b>Step 3: Identify Test</b></font><br>\n",
    "    Here we are comparing two different categorical variables, smoker and  different region. So perform a  Chi-sq Test."
   ]
  },
  {
   "cell_type": "markdown",
   "id": "3bf86628-3631-4768-8352-11f8ab15f013",
   "metadata": {},
   "source": [
    "<div class =\"alert alert-block alert-info\">\n",
    "    <font size=3><b>Step 4: Calculate the test-statistics and p-value</b></font>"
   ]
  },
  {
   "cell_type": "code",
   "execution_count": null,
   "id": "859aece3-93f3-4827-b029-eda154a84bbe",
   "metadata": {},
   "outputs": [],
   "source": [
    "contigency =pd.crosstab(insured.region,insured.smoker)\n",
    "contigency.index"
   ]
  },
  {
   "cell_type": "code",
   "execution_count": null,
   "id": "29eb1572-6db4-4352-80a3-dd6b2159c165",
   "metadata": {},
   "outputs": [],
   "source": [
    "# performing chi square test\n",
    "chi2 , p_val , dof ,exp_frequencies = chi2_contingency(contigency,correction=False)"
   ]
  },
  {
   "cell_type": "code",
   "execution_count": null,
   "id": "902cc147-2b64-4d5d-a01f-1d696ba210f6",
   "metadata": {},
   "outputs": [],
   "source": [
    "print('chi-square statistic: {}\\nPvalue: {} \\nDegree of freedom: {} \\n\\n\\nexpected frequencies: {} '.format(chi2, p_val, dof, exp_frequencies))"
   ]
  },
  {
   "cell_type": "code",
   "execution_count": null,
   "id": "cf6b7cac-91c1-42cf-a3af-71ccd3d27e4d",
   "metadata": {},
   "outputs": [],
   "source": [
    "if (p_val < 0.05):\n",
    "    print('Reject Null Hypothesis')\n",
    "else:\n",
    "    print('Failed to reject Null Hypothesis')"
   ]
  },
  {
   "cell_type": "markdown",
   "id": "e6f3e8d3-90d3-4563-9bf2-3325a0c96ef2",
   "metadata": {},
   "source": [
    "<div class =\"alert alert-block alert-info\">\n",
    "    <font size=3><b>Step 5: Decide to reject or accept null hypothesis</b></font><br>\n",
    "     We failed to reject the null hypothesis and conclude that Smoker proportions is not significantly different across different regions.\n",
    "    "
   ]
  },
  {
   "cell_type": "markdown",
   "id": "b9b38b25-f1f6-4db6-91ff-1cae559a3421",
   "metadata": {},
   "source": [
    "\n",
    "# 4.Is the mean BMI of women with no children, one child, and two children the same? Explain your answer with statistical evidence."
   ]
  },
  {
   "cell_type": "markdown",
   "id": "322eaa7d-15f1-4ad6-8cff-7f267604f420",
   "metadata": {},
   "source": [
    "<div class =\"alert alert-block alert-info\">\n",
    "    <font size=3><b>    Step 1: Define null and alternative hypotheses</b></font>\n",
    "\n",
    "* H<sub>0</sub>: μ1 = μ2 = μ3  The mean BMI of women with no children , one child,two children is same <br>\n",
    "\n",
    "* H<sub>a</sub>:  Atleast  one of mean BMI of women is not same <br>\n",
    "</div>"
   ]
  },
  {
   "cell_type": "markdown",
   "id": "c8c58570-f538-40c4-b1ed-9e1956bfd24c",
   "metadata": {},
   "source": [
    "<div class =\"alert alert-block alert-info\">\n",
    "    <font size=3><b>Step 2: Decide the significance level</b></font>\n",
    "\n",
    "α = 0.05"
   ]
  },
  {
   "cell_type": "markdown",
   "id": "428fe6e7-23aa-49ec-954d-bbed9b187d5c",
   "metadata": {},
   "source": [
    "<div class =\"alert alert-block alert-info\">\n",
    "    <font size=3><b>Step 3: Identify Test</b></font><br>\n",
    "    \n",
    "One-way ANOVA - Equality of population through variances of samples."
   ]
  },
  {
   "cell_type": "markdown",
   "id": "5f407307-422d-46ba-8ee2-72e535d42c9d",
   "metadata": {},
   "source": [
    "<div class =\"alert alert-block alert-info\">\n",
    "    <font size=3><b>Step 4: Calculate the test-statistics and p-value</b></font>"
   ]
  },
  {
   "cell_type": "code",
   "execution_count": null,
   "id": "7c8b67e2-5310-4d55-9d2f-c8c3831355d8",
   "metadata": {},
   "outputs": [],
   "source": []
  },
  {
   "cell_type": "code",
   "execution_count": null,
   "id": "9e2256b3-3ab2-447a-9b02-c8a297ac3b1f",
   "metadata": {},
   "outputs": [],
   "source": [
    "df_female_child = df_female.loc[df_female['children']<=2]"
   ]
  },
  {
   "cell_type": "code",
   "execution_count": null,
   "id": "9d45e821-66a6-4aaf-83cb-487c48a6da79",
   "metadata": {},
   "outputs": [],
   "source": [
    "df_female_child.groupby('children')['bmi'].mean()"
   ]
  },
  {
   "cell_type": "code",
   "execution_count": null,
   "id": "feb1a397-366b-4147-8678-b97af3b63a6f",
   "metadata": {},
   "outputs": [],
   "source": [
    "# Applying ANOVA and cheking each children count (0,1,2) with the bmi;\n",
    "formula = 'bmi ~ C(children)'\n",
    "model = ols(formula, df_female_child).fit()\n",
    "aov_table = anova_lm(model)\n",
    "aov_table"
   ]
  },
  {
   "cell_type": "markdown",
   "id": "94cc52b1-16fb-4bca-afad-4c1052617e47",
   "metadata": {},
   "source": [
    "<div class =\"alert alert-block alert-info\">\n",
    "    <font size=3><b>Step 5: Decide to reject or accept null hypothesis</b></font><br>\n",
    "     P value is 0.715858 and it is greater than aplha(0.05) ,We failed to  reject the null hypothesis and conclude that mean Bmi of women  with no children,one children, two children is same. \n",
    "    "
   ]
  },
  {
   "cell_type": "markdown",
   "id": "6fb9c6a6-defb-4600-846b-71f90e191226",
   "metadata": {},
   "source": [
    "### Recommendation\n",
    "- Based on EDA and statistical  evidence it can be seen that  customer who smoke or   have higher  BMI  have more higher claims. We can encourage customers to quit smoking by providing them  incentive points  for talking to life coach, get help for improving lifestyle habits,  Quit Tobacco- 28 day program. Give gift cards when customer accumulates specific number of points.\n",
    "- We can have Active wellness programs which can help up reduce claims related to BMI.\n",
    "- High BMI  is primarily because of unhealthy life choices. We can provide customers with Diet plans and wellness health coaches which can help them to make right choices.\n",
    "- Provide discount coupons  for Gym  or  fitness devices encouraging customers to exercise.\n"
   ]
  },
  {
   "cell_type": "code",
   "execution_count": null,
   "id": "9f3b54bf-a2ac-4a98-bf39-424e20bca9c9",
   "metadata": {},
   "outputs": [],
   "source": []
  },
  {
   "cell_type": "code",
   "execution_count": null,
   "id": "704b8610-6617-4267-a894-f19ce8a0881a",
   "metadata": {},
   "outputs": [],
   "source": []
  },
  {
   "cell_type": "markdown",
   "id": "15abba7a-6382-454b-99d9-a6cfb455c6d1",
   "metadata": {},
   "source": [
    "# Linear Regression"
   ]
  },
  {
   "cell_type": "markdown",
   "id": "45e83bcc-bf02-4a4f-a321-376d05bebd8c",
   "metadata": {},
   "source": [
    "## Definition & Working principle\n",
    "Let's build model using **Linear regression**.\n",
    "\n",
    "Linear regression is a **supervised learining** algorithm used when target / dependent variable  **continues** real number. It establishes relationship between dependent variable $y$ and one or more independent variable $x$ using best fit line.   It work on the principle of ordinary least square $(OLS)$ / Mean square errror $(MSE)$. In statistics ols is method to estimated unkown parameter of linear regression function, it's goal is to minimize sum of square difference between observed dependent variable in the given data set and those predicted by linear regression fuction. \n"
   ]
  },
  {
   "cell_type": "markdown",
   "id": "2196d030-f3b1-44c4-a232-6e40e432ecb5",
   "metadata": {},
   "source": [
    "## Data Preprocessing\n",
    "### Encoding\n",
    "Machine learning algorithms cannot work with categorical data directly, categorical data must be converted to number.\n",
    " 1. Label Encoding\n",
    " 2. One hot encoding\n",
    " 3. Dummy variable trap\n",
    "\n",
    "## 1. Label Encoding:\n",
    "Label encoding converts each unique category in a feature into an integer value. This method is suitable for ordinal\n",
    "categorical variables (those that have a meaningful order, such as low, medium, high).\n",
    "\n",
    "Cons:\n",
    "Not suitable for nominal (unordered) categorical variables as it introduces an arbitrary order which can confuse \n",
    "machine learning algorithms.\n",
    "                                                                                                        \n",
    "                                                                                                        \n",
    "##  2. One hot encoding\n",
    "One-hot encoding converts each unique category into a separate binary column (0 or 1). This is useful for nominal categorical \n",
    "variables (those that do not have a meaningful order, such as colors or countries).                                                                                                   \n",
    "Cons:\n",
    "Can lead to a dummy variable trap.\n",
    "If a feature has many unique categories, it can lead to a high-dimensional dataset (known as the \"curse of dimensionality\").  \n",
    "\n",
    "\n",
    "##  3. Dummy variable trap\n",
    "The dummy variable trap occurs when one of the dummy variables (binary columns from one-hot encoding) is redundant. If you have \n",
    " k categories, the information for the last category can be derived from the first \n",
    "k−1 columns, which leads to multicollinearity\n",
    "\n",
    "\n",
    "\n",
    "\n",
    "By using pandas get_dummies function we can do all above three step in line of code. We will this fuction to get dummy variable for sex, children,smoker,region features. By setting drop_first =True function will remove dummy variable trap by droping one variable and original variable.The pandas makes our life easy."
   ]
  },
  {
   "cell_type": "code",
   "execution_count": null,
   "id": "cc3fcd4d-52f2-4c5c-b677-22ed0ad3b35b",
   "metadata": {},
   "outputs": [],
   "source": [
    "# dummy variables\n",
    "\n",
    "categorical_columns = ['sex','children', 'smoker', 'region']\n",
    "df_encode = pd.get_dummies(data=df,prefix='OLE',prefix_sep='_',columns=categorical_columns,drop_first=True,dtype='int8')\n",
    "df_encode.head()"
   ]
  },
  {
   "cell_type": "code",
   "execution_count": null,
   "id": "2ccae8ed-9459-49e8-b172-00bc1a82e525",
   "metadata": {},
   "outputs": [],
   "source": [
    "# Lets verify the dummay variable process\n",
    "print('Columns in original data frame:\\n',df.columns.values)\n",
    "print('\\nNumber of rows and columns in the dataset:',df.shape)\n",
    "print('\\nColumns in data frame after encoding dummy variable:\\n',df_encode.columns.values)\n",
    "print('\\nNumber of rows and columns in the dataset:',df_encode.shape)"
   ]
  },
  {
   "cell_type": "code",
   "execution_count": null,
   "id": "73bb1c3f-4bcd-46bb-a9f0-0fbb2bc2f252",
   "metadata": {},
   "outputs": [],
   "source": []
  },
  {
   "cell_type": "code",
   "execution_count": null,
   "id": "7ce805ce-7cda-4bad-bbf7-e87bc737d3f0",
   "metadata": {},
   "outputs": [],
   "source": [
    "fig ,ax = plt.subplots(1,2,figsize=(15,5))\n",
    "\n",
    "sns.distplot(df['charges'],bins=30,color='r',ax=ax[0])\n",
    "ax[0].set_title('Distribution of insurance charges')\n",
    "\n",
    "\n",
    "sns.distplot(np.log10(df['charges']),bins=40,color='b',ax=ax[1])\n",
    "ax[1].set_title('Distribution of insurance charges in $log$ sacle')\n",
    "ax[1].set_xscale('log');"
   ]
  },
  {
   "cell_type": "markdown",
   "id": "c2aa9cd4-36b0-446e-8d35-c80208e05a8d",
   "metadata": {},
   "source": [
    "### Box -Cox transformation\n",
    "A Box Cox transformation is a way to transform non-normal dependent variables into a normal shape. Normality is an important assumption for many statistical techniques; if your data isn’t normal, applying a Box-Cox means that you are able to run a broader number of tests. All that we need to perform this transformation is to find lambda value and apply the rule shown below to your variable.  \n",
    "$$\\mathbf{ \\begin {cases}\\frac {y^\\lambda - 1}{\\lambda},& y_i\\neg=0 \\\\\n",
    " log(y_i) & \\lambda = 0 \\end{cases}}$$\n",
    " The trick of Box-Cox transformation is to find lambda value, however in practice this is quite affordable. The following function returns the transformed variable, lambda value,confidence interval\n",
    "\n",
    "\n",
    "Where:\n",
    "\n",
    "y is the original data,\n",
    "λ is the transformation parameter.\n",
    "The transformation parameter \n",
    "λ is estimated from the data to maximize the likelihood of achieving normality.\n",
    "\n",
    "When to Use Box-Cox Transformation:\n",
    "When your data is positively skewed.\n",
    "When your data has heteroscedasticity, i.e., unequal variance in residuals.\n",
    "When you're working with models that assume normally distributed errors.\n",
    "Limitations:\n",
    "The Box-Cox transformation can only be applied to positive data. If your data contains negative or zero values, you'll need to shift it by adding a constant to make all values positive before applying the transformation.\n",
    "If the data is negative, you can consider using the Yeo-Johnson transformation, which is a generalization of Box-Cox that works for both positive and negative data."
   ]
  },
  {
   "cell_type": "code",
   "execution_count": null,
   "id": "9c56999f-8b89-477d-a353-462d360cb4c2",
   "metadata": {},
   "outputs": [],
   "source": [
    "from scipy.stats import boxcox\n",
    "y_bc,lam, ci= boxcox(df_encode['charges'],alpha=0.05)\n",
    "print(ci,lam)\n",
    "#df['charges'] = y_bc  \n",
    "# it did not perform better for this model, so log transform is used"
   ]
  },
  {
   "cell_type": "code",
   "execution_count": null,
   "id": "3f66416e-e36d-4207-b682-fb293142d3c3",
   "metadata": {},
   "outputs": [],
   "source": [
    "#df_encode['charges'] = y_bc\n",
    "df_encode['charges'] = np.log(df_encode['charges'])"
   ]
  },
  {
   "cell_type": "code",
   "execution_count": null,
   "id": "7e29e1f5-d070-4f01-a11e-5ccc70ae1375",
   "metadata": {},
   "outputs": [],
   "source": [
    "from sklearn.preprocessing import StandardScaler\n",
    "numeric_columns = ['age', 'bmi', 'charges']\n",
    "scalar = StandardScaler()\n",
    "df_scaled = df_encode.copy()\n",
    "df_scaled[numeric_columns]=scalar.fit_transform(df_scaled[numeric_columns])\n",
    "df_scaled.head()"
   ]
  },
  {
   "cell_type": "code",
   "execution_count": null,
   "id": "2fbe9c87-5c78-4bbf-a0d8-4e196b68f4b0",
   "metadata": {},
   "outputs": [],
   "source": [
    "x=df_scaled.drop(columns='charges') # removing the dependent variable column \n",
    "y=df_scaled['charges'] # taking the dependent column"
   ]
  },
  {
   "cell_type": "code",
   "execution_count": null,
   "id": "d10f13ff-873e-44ae-8834-11474ab9b156",
   "metadata": {},
   "outputs": [],
   "source": [
    "\n",
    "from sklearn.model_selection import train_test_split\n",
    "x_train , x_test ,y_train , y_test = train_test_split(x,y,test_size=0.2,random_state=23)\n",
    "x_train.head()"
   ]
  },
  {
   "cell_type": "markdown",
   "id": "613a59f7-f744-461e-9e0b-a696c3fc3666",
   "metadata": {},
   "source": [
    "## Model building"
   ]
  },
  {
   "cell_type": "code",
   "execution_count": null,
   "id": "31f6d364-6285-4a8d-8194-457648e8a5ef",
   "metadata": {},
   "outputs": [],
   "source": [
    "from sklearn.linear_model import LinearRegression\n",
    "lr= LinearRegression()\n",
    "lr.fit(x_train,y_train)\n",
    "\n",
    "print(lr.intercept_,lr.coef_)"
   ]
  },
  {
   "cell_type": "code",
   "execution_count": null,
   "id": "61d350db-50b5-40d2-923a-0b28d5b9da84",
   "metadata": {},
   "outputs": [],
   "source": [
    "\n",
    "print('intercept is',lr.intercept_,'\\n\\nSlope of the columns are\\n',lr.coef_)"
   ]
  },
  {
   "cell_type": "markdown",
   "id": "f3e371ba-90b9-4ad7-bc9c-eb7ba20d1ac3",
   "metadata": {},
   "source": [
    "## Model evaluation\n",
    "We will predict value for target variable by using our model parameter for test data set. Then compare the predicted value with actual valu in test set. We compute **Mean Square Error** using formula \n",
    "$$\\mathbf{ J(\\theta) = \\frac{1}{m} \\sum_{i=1}^{m}(\\hat{y}_i - y_i)^2}$$\n",
    "\n",
    "$\\mathbf{R^2}$ is statistical measure of how close data are to the fitted regression line. $\\mathbf{R^2}$ is always between 0 to 100%. 0% indicated that model explains none of the variability of the response data around it's mean. 100% indicated that model explains all the variablity of the response data around the mean.\n",
    "\n",
    "$$\\mathbf{R^2 = 1 - \\frac{SSE}{SST}}$$\n",
    "**SSE = Sum of Square Error**  \n",
    "**SST = Sum of Square Total**  \n",
    "$$\\mathbf{SSE = \\sum_{i=1}^{m}(\\hat{y}_i - y_i)^2}$$\n",
    "$$\\mathbf{SST = \\sum_{i=1}^{m}(y_i - \\bar{y}_i)^2}$$\n",
    "Here $\\mathbf{\\hat{y}}$ is predicted value and $\\mathbf{\\bar{y}}$ is mean value of $\\mathbf{y}$."
   ]
  },
  {
   "cell_type": "code",
   "execution_count": null,
   "id": "197f4749-a031-44b5-8ac3-7a0592d4a847",
   "metadata": {},
   "outputs": [],
   "source": [
    "y_pred = lr.predict(x_train)\n",
    "\n",
    "from sklearn.metrics import mean_squared_error , r2_score\n",
    "\n",
    "residual = y_train - y_pred\n",
    "\n",
    "#Evaluvation: MSE\n",
    "print('MSE : ',(np.square(residual)).sum()/residual.count())\n",
    "\n",
    "mse = mean_squared_error(y_pred,y_train)\n",
    "print(mse)\n",
    "\n",
    "r2 = r2_score(y_train,y_pred)\n",
    "print('Rsquare is : ',r2)\n",
    "\n",
    "ax=sns.distplot(residual,bins=15)\n",
    "ax.axvline(residual.mean(),color='r',linestyle='--')\n",
    "plt.show()"
   ]
  },
  {
   "cell_type": "code",
   "execution_count": null,
   "id": "008ac2bd-7f74-49a6-9716-2b32fe639a4f",
   "metadata": {},
   "outputs": [],
   "source": [
    "#test data set\n",
    "\n",
    "y_test_pred = lr.predict(x_test)\n",
    "\n",
    "mse2 = mean_squared_error(y_test,y_test_pred)\n",
    "print('MSE is :',mse)\n",
    "\n",
    "rsqu= r2_score(y_test,y_test_pred)\n",
    "print('r score is :',rsqu)"
   ]
  },
  {
   "cell_type": "markdown",
   "id": "f1e0c48d-0105-480e-a248-0dcb6eaf84dc",
   "metadata": {},
   "source": [
    "The model returns $R^2$ value of 80.2%, so it fit our data test very well, but still we can imporve the the performance of by diffirent technique. Please make a note that we have transformer out variable by applying natural log. When we put model into production antilog is applied to the equation."
   ]
  },
  {
   "cell_type": "markdown",
   "id": "56d72289-6534-4103-bee7-7e175566c5ad",
   "metadata": {},
   "source": [
    "### adjusted R2"
   ]
  },
  {
   "cell_type": "code",
   "execution_count": null,
   "id": "de5ffdb7-c6dd-498c-baca-7d20d18db970",
   "metadata": {},
   "outputs": [],
   "source": [
    "n = x_test.shape[0]  # number of samples\n",
    "p = x_test.shape[1]  # number of predictors\n",
    "\n",
    "# Calculate Adjusted R-squared\n",
    "adjusted_r_squared = 1 - (1 - rsqu) * (n - 1) / (n - p - 1)\n",
    "print(\"ADJUSTED R 2 IS : \",adjusted_r_squared)"
   ]
  },
  {
   "cell_type": "code",
   "execution_count": null,
   "id": "9ec89b96-56d9-4e51-8b66-8af4e6c229ec",
   "metadata": {},
   "outputs": [],
   "source": [
    "residual2 = y_test - y_test_pred\n",
    "ax=sns.distplot(residual2,bins=15)\n",
    "ax.axvline((y_test - y_test_pred).mean(),color='r',linestyle='--')\n",
    "plt.show()"
   ]
  },
  {
   "cell_type": "markdown",
   "id": "293019b9-93ae-43f3-8c0d-bf5a64793157",
   "metadata": {},
   "source": [
    "## Model Validation\n",
    "In order to validated model we need to check few assumption of linear regression model. The common assumption for *Linear Regression* model are following\n",
    "1. Linear Relationship: In linear regression the relationship between the dependent and independent variable to be *linear*. This can be checked by scatter ploting Actual value Vs Predicted value\n",
    "2. The residual error plot should be *normally* distributed.\n",
    "3. The *mean* of *residual error* should be 0 or close to 0 as much as possible\n",
    "4. The linear regression require all variables to be multivariate normal. This assumption can best checked with Q-Q plot.\n",
    "5. Linear regession assumes that there is little or no *Multicollinearity in the data. Multicollinearity occurs when the independent variables are too highly correlated with each other. The variance inflation factor *VIF* identifies correlation between independent variables and strength of that correlation. $\\mathbf{VIF = \\frac {1}{1-R^2}}$, If VIF >1 & VIF <5 moderate correlation, VIF < 5 critical level of multicollinearity.\n",
    "6. Homoscedasticity: The data are homoscedastic meaning the residuals are equal across the regression line. We can look at residual Vs fitted value scatter plot. If heteroscedastic plot would exhibit a funnel shape pattern."
   ]
  },
  {
   "cell_type": "code",
   "execution_count": null,
   "id": "12e770c8-2f09-41bb-95ba-8cc19d3bf7ab",
   "metadata": {},
   "outputs": [],
   "source": [
    "# check for linearity\n",
    "\n",
    "f,ax = plt.subplots(1,2,figsize=(14,5))\n",
    "sns.scatterplot(x=y_test,y=y_test_pred,ax=ax[0],color='r')\n",
    "ax[0].set_title('Check for Linearity:\\n Actual Vs Predicted value')\n",
    "# Check for Residual normality & mean\n",
    "\n",
    "sns.distplot((y_test - y_test_pred),ax=ax[1],color='b')\n",
    "ax[1].axvline((y_test - y_test_pred).mean(),color='k',linestyle='--')\n",
    "ax[1].set_title('Check for Residual normality & mean: \\n Residual eror');"
   ]
  },
  {
   "cell_type": "code",
   "execution_count": null,
   "id": "eabbcc9a-0e4b-47d9-8efa-f8e9b577b75b",
   "metadata": {},
   "outputs": [],
   "source": [
    "# Check for Multivariate Normality\n",
    "# Quantile-Quantile plot \n",
    "f,ax = plt.subplots(1,2,figsize=(14,6))\n",
    "import scipy as sp\n",
    "_,(_,_,r)= sp.stats.probplot(residual2,fit=True,plot=ax[0])\n",
    "ax[0].set_title('Check for Multivariate Normality: \\nQ-Q Plot')\n",
    "\n",
    "#Check for Homoscedasticity\n",
    "sns.scatterplot(y = residual2, x= y_test_pred, ax = ax[1],color='r') \n",
    "ax[1].set_title('Check for Homoscedasticity: \\nResidual Vs Predicted')\n"
   ]
  },
  {
   "cell_type": "code",
   "execution_count": null,
   "id": "90e83463-fb4b-44a0-beb9-e08343359b9c",
   "metadata": {},
   "outputs": [],
   "source": [
    "# check for multicollinearity\n",
    "VIF = 1/(1-rsqu)\n",
    "VIF"
   ]
  },
  {
   "cell_type": "markdown",
   "id": "33344d38-f1d5-4f81-aefa-73a11810c0a0",
   "metadata": {},
   "source": [
    "The model assumption linear regression as follows\r\n",
    "1. In our model  the actual vs predicted plot is curve so linear assumption fails\r\n",
    "2. The residual mean is zero and residual error plot right skewed\r\n",
    "3. Q-Q plot shows as value log value greater than 1.5 trends to increase\r\n",
    "4. The plot is exhibit heteroscedastic, error will insease after certian point.\r\n",
    "5. Variance inflation factor valu  than 5so no multicolle exists but i decided not to take multicollinearity into accountrity."
   ]
  },
  {
   "cell_type": "code",
   "execution_count": null,
   "id": "4f6f94ea-200f-4ec5-bc7a-10b941d7b75c",
   "metadata": {},
   "outputs": [],
   "source": [
    "df_scaled.corr()"
   ]
  }
 ],
 "metadata": {
  "kernelspec": {
   "display_name": "Python 3 (ipykernel)",
   "language": "python",
   "name": "python3"
  },
  "language_info": {
   "codemirror_mode": {
    "name": "ipython",
    "version": 3
   },
   "file_extension": ".py",
   "mimetype": "text/x-python",
   "name": "python",
   "nbconvert_exporter": "python",
   "pygments_lexer": "ipython3",
   "version": "3.12.4"
  }
 },
 "nbformat": 4,
 "nbformat_minor": 5
}
